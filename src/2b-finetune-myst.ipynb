{
 "cells": [
  {
   "cell_type": "code",
   "execution_count": null,
   "id": "af974f5a-2f03-45a4-8bb9-317bf85a9bfe",
   "metadata": {},
   "outputs": [
    {
     "ename": "",
     "evalue": "",
     "output_type": "error",
     "traceback": [
      "\u001b[1;31mFailed to connect to the remote Jupyter Server 'https://jupyter.learlab.vanderbilt.edu/'. Verify the server is running and reachable. (Failed to connect to the remote Jupyter Server 'https://jupyter.learlab.vanderbilt.edu/'. Verify the server is running and reachable. (request to https://jupyter.learlab.vanderbilt.edu/user/langdon-holmes/api/kernels?1755744339874 failed, reason: read ECONNRESET).)."
     ]
    }
   ],
   "source": [
    "import torch\n",
    "from transformers import (\n",
    "    AutoModelForSpeechSeq2Seq,\n",
    "    AutoProcessor,\n",
    "    Seq2SeqTrainingArguments,\n",
    "    Seq2SeqTrainer,\n",
    "    pipeline,\n",
    ")\n",
    "from transformers.models.whisper.english_normalizer import BasicTextNormalizer\n",
    "from datasets import Dataset, DatasetDict, load_from_disk\n",
    "\n",
    "import numpy as np\n",
    "from dataclasses import dataclass\n",
    "from typing import Any, Dict, List, Union\n",
    "import re\n",
    "import jiwer"
   ]
  },
  {
   "cell_type": "code",
   "execution_count": 2,
   "id": "222def0e-1b0a-4d70-b44a-e9570baa6c6c",
   "metadata": {},
   "outputs": [],
   "source": [
    "device = \"cuda:0\"\n",
    "torch_dtype = torch.float32\n",
    "model_id = \"openai/whisper-large-v3\"\n",
    "\n",
    "processor = AutoProcessor.from_pretrained(model_id)\n",
    "model = AutoModelForSpeechSeq2Seq.from_pretrained(\n",
    "    model_id, torch_dtype=torch_dtype, low_cpu_mem_usage=True\n",
    ")\n",
    "model.to(device)\n",
    "\n",
    "# Configure generation\n",
    "model.generation_config.language = \"english\"\n",
    "model.generation_config.task = \"transcribe\"\n",
    "model.generation_config.forced_decoder_ids = None"
   ]
  },
  {
   "cell_type": "code",
   "execution_count": 3,
   "id": "c5299154-39dd-4d63-8241-5307658976cb",
   "metadata": {},
   "outputs": [
    {
     "data": {
      "application/vnd.jupyter.widget-view+json": {
       "model_id": "c523876feebc46a4870b99e4b2c3210c",
       "version_major": 2,
       "version_minor": 0
      },
      "text/plain": [
       "Loading dataset from disk:   0%|          | 0/25 [00:00<?, ?it/s]"
      ]
     },
     "metadata": {},
     "output_type": "display_data"
    },
    {
     "data": {
      "text/plain": [
       "DatasetDict({\n",
       "    train: Dataset({\n",
       "        features: ['audio', 'transcription', 'speaker_id', 'date', 'time', 'session_type', 'version', 'split'],\n",
       "        num_rows: 76924\n",
       "    })\n",
       "    validation: Dataset({\n",
       "        features: ['audio', 'transcription', 'speaker_id', 'date', 'time', 'session_type', 'version', 'split'],\n",
       "        num_rows: 12238\n",
       "    })\n",
       "    test: Dataset({\n",
       "        features: ['audio', 'transcription', 'speaker_id', 'date', 'time', 'session_type', 'version', 'split'],\n",
       "        num_rows: 13169\n",
       "    })\n",
       "})"
      ]
     },
     "execution_count": 3,
     "metadata": {},
     "output_type": "execute_result"
    }
   ],
   "source": [
    "myst = load_from_disk(\"/home/jovyan/active-projects/tla-asr-finetune/data/myst_dataset.ds\")\n",
    "myst"
   ]
  },
  {
   "cell_type": "code",
   "execution_count": 4,
   "id": "cb4f238b-1022-4774-aa58-918adfcaafcf",
   "metadata": {},
   "outputs": [],
   "source": [
    "normalizer = BasicTextNormalizer()\n",
    "\n",
    "def normalize_transcript(text):\n",
    "    # The original transcript has annotations, for example a pause is <pau>\n",
    "    # Remove tags in angle brackets\n",
    "    text = re.sub(r'<[^>]*>', '', text)\n",
    "    \n",
    "    # These are \"false starts\" in the original transcript, for example th*\n",
    "    # These are ignored by ASR\n",
    "    # Remove words that end with asterisks (e.g., th*)\n",
    "    text = re.sub(r'\\S*\\*', '', text)\n",
    "\n",
    "    # Remove all punctuation\n",
    "    normalized_text = normalizer(text)\n",
    "\n",
    "    return normalized_text"
   ]
  },
  {
   "cell_type": "code",
   "execution_count": null,
   "id": "3c95c070",
   "metadata": {},
   "outputs": [],
   "source": [
    "def filter_short_long_samples(batch):\n",
    "    audio_len = batch[\"audio\"][\"array\"].shape[0] / batch[\"audio\"][\"sampling_rate\"]\n",
    "    return 5 <= audio_len <= 30\n",
    "\n",
    "myst_filtered = myst.filter(filter_short_long_samples)\n",
    "\n",
    "print(len(myst_filtered[\"train\"]))\n"
   ]
  },
  {
   "cell_type": "code",
   "execution_count": 9,
   "id": "860b1c42",
   "metadata": {},
   "outputs": [
    {
     "data": {
      "application/vnd.jupyter.widget-view+json": {
       "model_id": "d5ed44cb17cd4a588af5564a25446c5b",
       "version_major": 2,
       "version_minor": 0
      },
      "text/plain": [
       "Map:   0%|          | 0/36544 [00:00<?, ? examples/s]"
      ]
     },
     "metadata": {},
     "output_type": "display_data"
    },
    {
     "data": {
      "application/vnd.jupyter.widget-view+json": {
       "model_id": "37793b8c0c9c4942b4a18adcc1fbbca6",
       "version_major": 2,
       "version_minor": 0
      },
      "text/plain": [
       "Map:   0%|          | 0/6013 [00:00<?, ? examples/s]"
      ]
     },
     "metadata": {},
     "output_type": "display_data"
    },
    {
     "data": {
      "application/vnd.jupyter.widget-view+json": {
       "model_id": "91657137cefc4461b9635966d4f24933",
       "version_major": 2,
       "version_minor": 0
      },
      "text/plain": [
       "Map:   0%|          | 0/6321 [00:00<?, ? examples/s]"
      ]
     },
     "metadata": {},
     "output_type": "display_data"
    },
    {
     "data": {
      "text/plain": [
       "Dataset({\n",
       "    features: ['input_features', 'labels'],\n",
       "    num_rows: 36544\n",
       "})"
      ]
     },
     "execution_count": 9,
     "metadata": {},
     "output_type": "execute_result"
    }
   ],
   "source": [
    "def prepare_dataset(batch):\n",
    "    # Load audio\n",
    "    audio = batch[\"audio\"]\n",
    "    sampling_rate = batch[\"audio\"][\"sampling_rate\"]\n",
    "\n",
    "    inputs = processor.feature_extractor(\n",
    "        audio[\"array\"],\n",
    "        sampling_rate=sampling_rate,\n",
    "        return_tensors=\"pt\",\n",
    "        padding=\"max_length\",  # This ensures padding to max length in batch\n",
    "        max_length=30 * sampling_rate,  # 30 seconds at 16kHz\n",
    "        truncation=True,  # Truncate if longer than max_length\n",
    "    )\n",
    "\n",
    "    # Reprocess the filtered audio\n",
    "    batch[\"input_features\"] = inputs.input_features[0]\n",
    "\n",
    "    # Normalize and encode target text\n",
    "    normalized_text = normalize_transcript(batch[\"transcription\"])\n",
    "    batch[\"labels\"] = processor.tokenizer(normalized_text, padding=True).input_ids\n",
    "\n",
    "    return batch\n",
    "\n",
    "myst_processed = myst_filtered.map(\n",
    "    prepare_dataset,\n",
    "    remove_columns=myst_filtered.column_names[\"train\"],\n",
    "    num_proc=1,\n",
    ")\n",
    "\n",
    "myst_processed[\"train\"]\n"
   ]
  },
  {
   "cell_type": "code",
   "execution_count": null,
   "id": "5f6550b7-a019-4393-9a0e-8352d79d394b",
   "metadata": {},
   "outputs": [],
   "source": [
    "def weighted_wer(ref: list[str], pred: list[str]):\n",
    "    # Normalize both predictions and references\n",
    "    pred_normalized = [normalize_transcript(text) for text in pred]\n",
    "    label_normalized = [normalize_transcript(text) for text in ref]\n",
    "    \n",
    "    total_errors = 0\n",
    "    total_words = 0\n",
    "    \n",
    "    for pred_text, ref_text in zip(pred_normalized, label_normalized):\n",
    "        ref_words = ref_text.split()\n",
    "            \n",
    "        # Compute WER for this sample\n",
    "        sample_wer = jiwer.wer(ref_text, pred_text)\n",
    "        \n",
    "        # Accumulate weighted errors\n",
    "        sample_errors = sample_wer * len(ref_words)\n",
    "        total_errors += sample_errors\n",
    "        total_words += len(ref_words)\n",
    "    \n",
    "    weighted_wer = total_errors / total_words if total_words > 0 else 0.0\n",
    "    \n",
    "    return {\"wer\": weighted_wer}\n",
    "    \n",
    "\n",
    "def compute_metrics(pred):\n",
    "    pred_ids = pred.predictions\n",
    "    label_ids = pred.label_ids\n",
    "    \n",
    "    # Replace -100 with pad token\n",
    "    label_ids[label_ids == -100] = processor.tokenizer.pad_token_id\n",
    "    \n",
    "    # Decode predictions and labels\n",
    "    pred_str = processor.tokenizer.batch_decode(pred_ids, skip_special_tokens=True)\n",
    "    label_str = processor.tokenizer.batch_decode(label_ids, skip_special_tokens=True)\n",
    "\n",
    "    return weighted_wer(label_str, pred_str)"
   ]
  },
  {
   "cell_type": "code",
   "execution_count": null,
   "id": "92a34aef",
   "metadata": {},
   "outputs": [
    {
     "data": {
      "text/plain": [
       "DatasetDict({\n",
       "    train: Dataset({\n",
       "        features: ['audio', 'transcription', 'speaker_id', 'date', 'time', 'session_type', 'version', 'split'],\n",
       "        num_rows: 76924\n",
       "    })\n",
       "    validation: Dataset({\n",
       "        features: ['audio', 'transcription', 'speaker_id', 'date', 'time', 'session_type', 'version', 'split'],\n",
       "        num_rows: 12238\n",
       "    })\n",
       "    test: Dataset({\n",
       "        features: ['audio', 'transcription', 'speaker_id', 'date', 'time', 'session_type', 'version', 'split'],\n",
       "        num_rows: 13169\n",
       "    })\n",
       "})"
      ]
     },
     "execution_count": 16,
     "metadata": {},
     "output_type": "execute_result"
    }
   ],
   "source": [
    "myst"
   ]
  },
  {
   "cell_type": "code",
   "execution_count": null,
   "id": "2c2409ed-4d8a-41f7-9eee-664c3708c6c8",
   "metadata": {},
   "outputs": [
    {
     "name": "stderr",
     "output_type": "stream",
     "text": [
      "Device set to use cuda:0\n",
      "The attention mask is not set and cannot be inferred from input because pad token is same as eos token. As a consequence, you may observe unexpected behavior. Please pass your input's `attention_mask` to obtain reliable results.\n"
     ]
    },
    {
     "ename": "ValueError",
     "evalue": "one or more references are empty strings",
     "output_type": "error",
     "traceback": [
      "\u001b[0;31m---------------------------------------------------------------------------\u001b[0m",
      "\u001b[0;31mValueError\u001b[0m                                Traceback (most recent call last)",
      "Cell \u001b[0;32mIn[24], line 17\u001b[0m\n\u001b[1;32m     14\u001b[0m     wer_score \u001b[38;5;241m=\u001b[39m weighted_wer(references, predictions)\n\u001b[1;32m     15\u001b[0m     \u001b[38;5;28mprint\u001b[39m(wer_score)\n\u001b[0;32m---> 17\u001b[0m \u001b[43mget_baseline\u001b[49m\u001b[43m(\u001b[49m\u001b[43mmyst\u001b[49m\u001b[43m)\u001b[49m\n\u001b[1;32m     18\u001b[0m \u001b[38;5;66;03m# 0.\u001b[39;00m\n",
      "Cell \u001b[0;32mIn[24], line 14\u001b[0m, in \u001b[0;36mget_baseline\u001b[0;34m(ds)\u001b[0m\n\u001b[1;32m     12\u001b[0m predictions \u001b[38;5;241m=\u001b[39m [d[\u001b[38;5;124m\"\u001b[39m\u001b[38;5;124mtext\u001b[39m\u001b[38;5;124m\"\u001b[39m] \u001b[38;5;28;01mfor\u001b[39;00m d \u001b[38;5;129;01min\u001b[39;00m results]\n\u001b[1;32m     13\u001b[0m references \u001b[38;5;241m=\u001b[39m ds[\u001b[38;5;124m\"\u001b[39m\u001b[38;5;124mtest\u001b[39m\u001b[38;5;124m\"\u001b[39m][\u001b[38;5;124m\"\u001b[39m\u001b[38;5;124mtranscription\u001b[39m\u001b[38;5;124m\"\u001b[39m]\n\u001b[0;32m---> 14\u001b[0m wer_score \u001b[38;5;241m=\u001b[39m \u001b[43mweighted_wer\u001b[49m\u001b[43m(\u001b[49m\u001b[43mreferences\u001b[49m\u001b[43m,\u001b[49m\u001b[43m \u001b[49m\u001b[43mpredictions\u001b[49m\u001b[43m)\u001b[49m\n\u001b[1;32m     15\u001b[0m \u001b[38;5;28mprint\u001b[39m(wer_score)\n",
      "Cell \u001b[0;32mIn[10], line 13\u001b[0m, in \u001b[0;36mweighted_wer\u001b[0;34m(ref, pred)\u001b[0m\n\u001b[1;32m     10\u001b[0m ref_words \u001b[38;5;241m=\u001b[39m ref_text\u001b[38;5;241m.\u001b[39msplit()\n\u001b[1;32m     12\u001b[0m \u001b[38;5;66;03m# Compute WER for this sample\u001b[39;00m\n\u001b[0;32m---> 13\u001b[0m sample_wer \u001b[38;5;241m=\u001b[39m \u001b[43mjiwer\u001b[49m\u001b[38;5;241;43m.\u001b[39;49m\u001b[43mwer\u001b[49m\u001b[43m(\u001b[49m\u001b[43mref_text\u001b[49m\u001b[43m,\u001b[49m\u001b[43m \u001b[49m\u001b[43mpred_text\u001b[49m\u001b[43m)\u001b[49m\n\u001b[1;32m     15\u001b[0m \u001b[38;5;66;03m# Accumulate weighted errors\u001b[39;00m\n\u001b[1;32m     16\u001b[0m sample_errors \u001b[38;5;241m=\u001b[39m sample_wer \u001b[38;5;241m*\u001b[39m \u001b[38;5;28mlen\u001b[39m(ref_words)\n",
      "File \u001b[0;32m~/conda_envs/hf/lib/python3.11/site-packages/jiwer/measures.py:111\u001b[0m, in \u001b[0;36mwer\u001b[0;34m(reference, hypothesis, reference_transform, hypothesis_transform, truth, truth_transform)\u001b[0m\n\u001b[1;32m     74\u001b[0m \u001b[38;5;250m\u001b[39m\u001b[38;5;124;03m\"\"\"\u001b[39;00m\n\u001b[1;32m     75\u001b[0m \u001b[38;5;124;03mCalculate the word error rate (WER) between one or more reference and\u001b[39;00m\n\u001b[1;32m     76\u001b[0m \u001b[38;5;124;03mhypothesis sentences.\u001b[39;00m\n\u001b[0;32m   (...)\u001b[0m\n\u001b[1;32m     95\u001b[0m \u001b[38;5;124;03m             hypothesis sentence(s).\u001b[39;00m\n\u001b[1;32m     96\u001b[0m \u001b[38;5;124;03m\"\"\"\u001b[39;00m\n\u001b[1;32m     97\u001b[0m (\n\u001b[1;32m     98\u001b[0m     reference,\n\u001b[1;32m     99\u001b[0m     hypothesis,\n\u001b[0;32m   (...)\u001b[0m\n\u001b[1;32m    108\u001b[0m     hypothesis_transform\u001b[38;5;241m=\u001b[39mhypothesis_transform,\n\u001b[1;32m    109\u001b[0m )\n\u001b[0;32m--> 111\u001b[0m output \u001b[38;5;241m=\u001b[39m \u001b[43mprocess_words\u001b[49m\u001b[43m(\u001b[49m\n\u001b[1;32m    112\u001b[0m \u001b[43m    \u001b[49m\u001b[43mreference\u001b[49m\u001b[43m,\u001b[49m\u001b[43m \u001b[49m\u001b[43mhypothesis\u001b[49m\u001b[43m,\u001b[49m\u001b[43m \u001b[49m\u001b[43mreference_transform\u001b[49m\u001b[43m,\u001b[49m\u001b[43m \u001b[49m\u001b[43mhypothesis_transform\u001b[49m\n\u001b[1;32m    113\u001b[0m \u001b[43m\u001b[49m\u001b[43m)\u001b[49m\n\u001b[1;32m    114\u001b[0m \u001b[38;5;28;01mreturn\u001b[39;00m output\u001b[38;5;241m.\u001b[39mwer\n",
      "File \u001b[0;32m~/conda_envs/hf/lib/python3.11/site-packages/jiwer/process.py:165\u001b[0m, in \u001b[0;36mprocess_words\u001b[0;34m(reference, hypothesis, reference_transform, hypothesis_transform)\u001b[0m\n\u001b[1;32m    163\u001b[0m     hypothesis \u001b[38;5;241m=\u001b[39m [hypothesis]\n\u001b[1;32m    164\u001b[0m \u001b[38;5;28;01mif\u001b[39;00m \u001b[38;5;28many\u001b[39m(\u001b[38;5;28mlen\u001b[39m(t) \u001b[38;5;241m==\u001b[39m \u001b[38;5;241m0\u001b[39m \u001b[38;5;28;01mfor\u001b[39;00m t \u001b[38;5;129;01min\u001b[39;00m reference):\n\u001b[0;32m--> 165\u001b[0m     \u001b[38;5;28;01mraise\u001b[39;00m \u001b[38;5;167;01mValueError\u001b[39;00m(\u001b[38;5;124m\"\u001b[39m\u001b[38;5;124mone or more references are empty strings\u001b[39m\u001b[38;5;124m\"\u001b[39m)\n\u001b[1;32m    167\u001b[0m \u001b[38;5;66;03m# pre-process reference and hypothesis by applying transforms\u001b[39;00m\n\u001b[1;32m    168\u001b[0m ref_transformed \u001b[38;5;241m=\u001b[39m _apply_transform(\n\u001b[1;32m    169\u001b[0m     reference, reference_transform, is_reference\u001b[38;5;241m=\u001b[39m\u001b[38;5;28;01mTrue\u001b[39;00m\n\u001b[1;32m    170\u001b[0m )\n",
      "\u001b[0;31mValueError\u001b[0m: one or more references are empty strings"
     ]
    }
   ],
   "source": [
    "def get_baseline(ds):\n",
    "    pipe = pipeline(\n",
    "        \"automatic-speech-recognition\",\n",
    "        model=model,\n",
    "        tokenizer=processor.tokenizer,\n",
    "        feature_extractor=processor.feature_extractor,\n",
    "        batch_size=16,\n",
    "        device=device,\n",
    "        chunk_length_s=30,\n",
    "    )\n",
    "    results = pipe(ds[\"test\"][\"audio\"])\n",
    "    predictions = [d[\"text\"] for d in results]\n",
    "    references = ds[\"test\"][\"transcription\"]\n",
    "    wer_score = weighted_wer(references, predictions)\n",
    "    print(wer_score)\n",
    "\n",
    "get_baseline(myst)\n",
    "# 0."
   ]
  },
  {
   "cell_type": "code",
   "execution_count": null,
   "id": "c89eff1e-140d-43ad-a4b9-c702a2bc7778",
   "metadata": {},
   "outputs": [],
   "source": [
    "@dataclass\n",
    "class DataCollatorSpeechSeq2SeqWithPadding:\n",
    "    processor: Any\n",
    "    decoder_start_token_id: int\n",
    "\n",
    "    def __call__(self, features: List[Dict[str, Union[List[int], torch.Tensor]]]) -> Dict[str, torch.Tensor]:\n",
    "        # split inputs and labels since they have to be of different lengths and need different padding methods\n",
    "        # first treat the audio inputs by simply returning torch tensors\n",
    "        input_features = [{\"input_features\": feature[\"input_features\"]} for feature in features]\n",
    "        batch = self.processor.feature_extractor.pad(input_features, return_tensors=\"pt\")\n",
    "\n",
    "        # get the tokenized label sequences\n",
    "        label_features = [{\"input_ids\": feature[\"labels\"]} for feature in features]\n",
    "\n",
    "        # pad the labels to max length\n",
    "        labels_batch = self.processor.tokenizer.pad(label_features, return_tensors=\"pt\")\n",
    "\n",
    "        # replace padding with -100 to ignore loss correctly\n",
    "        labels = labels_batch[\"input_ids\"].masked_fill(labels_batch.attention_mask.ne(1), -100)\n",
    "\n",
    "        # if bos token is appended in previous tokenization step,\n",
    "        # cut bos token here as it's append later anyways\n",
    "        if (labels[:, 0] == self.decoder_start_token_id).all().cpu().item():\n",
    "            labels = labels[:, 1:]\n",
    "\n",
    "        batch[\"labels\"] = labels\n",
    "\n",
    "        return batch\n",
    "\n",
    "data_collator = DataCollatorSpeechSeq2SeqWithPadding(\n",
    "    processor=processor,\n",
    "    decoder_start_token_id=model.config.decoder_start_token_id,\n",
    ")"
   ]
  },
  {
   "cell_type": "code",
   "execution_count": null,
   "id": "06954565-b7cc-4bf3-8a47-3d3b5543e422",
   "metadata": {},
   "outputs": [],
   "source": [
    "training_args = Seq2SeqTrainingArguments(\n",
    "    output_dir=\"../bin/whisper-myst\",\n",
    "    per_device_train_batch_size=8, # About 30 GiB of VRAM with 2x gradient accumulation\n",
    "    gradient_accumulation_steps=2,\n",
    "    learning_rate=1e-6,\n",
    "    warmup_steps=100,\n",
    "    max_steps=1_000,\n",
    "    gradient_checkpointing=True,\n",
    "    fp16=True,\n",
    "    eval_strategy=\"steps\",\n",
    "    per_device_eval_batch_size=16, # About 30GiB of VRAM\n",
    "    predict_with_generate=True,\n",
    "    save_steps=200,\n",
    "    eval_steps=200,\n",
    "    logging_steps=50,\n",
    "    report_to=[],  # Disable logging for simplicity\n",
    "    load_best_model_at_end=True,\n",
    "    metric_for_best_model=\"wer\",\n",
    "    greater_is_better=False,\n",
    "    push_to_hub=False,\n",
    ")\n",
    "\n",
    "trainer = Seq2SeqTrainer(\n",
    "    args=training_args,\n",
    "    model=model,\n",
    "    train_dataset=myst_processed[\"train\"],\n",
    "    eval_dataset=myst_processed[\"test\"],\n",
    "    data_collator=data_collator,\n",
    "    compute_metrics=compute_metrics,\n",
    "    processing_class=processor.feature_extractor,\n",
    ")"
   ]
  },
  {
   "cell_type": "code",
   "execution_count": null,
   "id": "e1f4e339-3c2f-4a0f-b6b8-ad6ec32252ac",
   "metadata": {},
   "outputs": [
    {
     "name": "stdout",
     "output_type": "stream",
     "text": [
      "Starting training...\n"
     ]
    },
    {
     "name": "stderr",
     "output_type": "stream",
     "text": [
      "Passing a tuple of `past_key_values` is deprecated and will be removed in Transformers v4.43.0. You should pass an instance of `EncoderDecoderCache` instead, e.g. `past_key_values=EncoderDecoderCache.from_legacy_cache(past_key_values)`.\n",
      "`use_cache = True` is incompatible with gradient checkpointing. Setting `use_cache = False`...\n"
     ]
    },
    {
     "data": {
      "text/html": [
       "\n",
       "    <div>\n",
       "      \n",
       "      <progress value='1000' max='1000' style='width:300px; height:20px; vertical-align: middle;'></progress>\n",
       "      [1000/1000 3:35:55, Epoch 2/3]\n",
       "    </div>\n",
       "    <table border=\"1\" class=\"dataframe\">\n",
       "  <thead>\n",
       " <tr style=\"text-align: left;\">\n",
       "      <th>Step</th>\n",
       "      <th>Training Loss</th>\n",
       "      <th>Validation Loss</th>\n",
       "      <th>Wer</th>\n",
       "    </tr>\n",
       "  </thead>\n",
       "  <tbody>\n",
       "    <tr>\n",
       "      <td>200</td>\n",
       "      <td>1.255900</td>\n",
       "      <td>1.236912</td>\n",
       "      <td>0.546898</td>\n",
       "    </tr>\n",
       "    <tr>\n",
       "      <td>400</td>\n",
       "      <td>1.135000</td>\n",
       "      <td>1.195005</td>\n",
       "      <td>0.526968</td>\n",
       "    </tr>\n",
       "    <tr>\n",
       "      <td>600</td>\n",
       "      <td>0.994300</td>\n",
       "      <td>1.181876</td>\n",
       "      <td>0.515787</td>\n",
       "    </tr>\n",
       "    <tr>\n",
       "      <td>800</td>\n",
       "      <td>0.939600</td>\n",
       "      <td>1.186429</td>\n",
       "      <td>0.561642</td>\n",
       "    </tr>\n",
       "    <tr>\n",
       "      <td>1000</td>\n",
       "      <td>0.904700</td>\n",
       "      <td>1.191074</td>\n",
       "      <td>0.574706</td>\n",
       "    </tr>\n",
       "  </tbody>\n",
       "</table><p>"
      ],
      "text/plain": [
       "<IPython.core.display.HTML object>"
      ]
     },
     "metadata": {},
     "output_type": "display_data"
    },
    {
     "name": "stderr",
     "output_type": "stream",
     "text": [
      "The attention mask is not set and cannot be inferred from input because pad token is same as eos token. As a consequence, you may observe unexpected behavior. Please pass your input's `attention_mask` to obtain reliable results.\n",
      "/home/jovyan/conda_envs/hf/lib/python3.11/site-packages/transformers/modeling_utils.py:2810: UserWarning: Moving the following attributes in the config to the generation config: {'max_length': 448, 'begin_suppress_tokens': [220, 50257]}. You are seeing this warning because you've set generation parameters in the model config, as opposed to in the generation config.\n",
      "  warnings.warn(\n",
      "There were missing keys in the checkpoint model loaded: ['proj_out.weight'].\n"
     ]
    },
    {
     "data": {
      "text/plain": [
       "TrainOutput(global_step=1000, training_loss=1.157503734588623, metrics={'train_runtime': 12963.215, 'train_samples_per_second': 1.234, 'train_steps_per_second': 0.077, 'total_flos': 5.435317790834688e+19, 'train_loss': 1.157503734588623, 'epoch': 2.6178010471204187})"
      ]
     },
     "execution_count": 17,
     "metadata": {},
     "output_type": "execute_result"
    }
   ],
   "source": [
    "# Start training\n",
    "print(\"Starting training...\")\n",
    "trainer.train()\n",
    "\n",
    "# 0.73 with learning_rate=1e-5 on cslu_kids_segmented.ds"
   ]
  },
  {
   "cell_type": "code",
   "execution_count": null,
   "id": "b4948ba0-f8a5-40f2-9bfe-b701f4ab9f8f",
   "metadata": {},
   "outputs": [],
   "source": [
    "trainer.save_model(\"../bin/model2\")"
   ]
  },
  {
   "cell_type": "code",
   "execution_count": null,
   "id": "984a9576-27fe-442d-8f26-f9b32e8d1001",
   "metadata": {},
   "outputs": [
    {
     "name": "stdout",
     "output_type": "stream",
     "text": [
      "Evaluating final model...\n"
     ]
    },
    {
     "data": {
      "text/html": [
       "\n",
       "    <div>\n",
       "      \n",
       "      <progress value='96' max='96' style='width:300px; height:20px; vertical-align: middle;'></progress>\n",
       "      [96/96 13:03]\n",
       "    </div>\n",
       "    "
      ],
      "text/plain": [
       "<IPython.core.display.HTML object>"
      ]
     },
     "metadata": {},
     "output_type": "display_data"
    },
    {
     "name": "stdout",
     "output_type": "stream",
     "text": [
      "Final WER: 0.5158\n"
     ]
    }
   ],
   "source": [
    "# Evaluate final model\n",
    "print(\"Evaluating final model...\")\n",
    "final_results = trainer.evaluate()\n",
    "print(f\"Final WER: {final_results['eval_wer']:.4f}\")"
   ]
  },
  {
   "cell_type": "code",
   "execution_count": null,
   "id": "8bd2f70e-6e49-40e8-bfe2-a5cdf315e276",
   "metadata": {},
   "outputs": [],
   "source": [
    "# Test on a few samples\n",
    "print(\"\\nTesting on sample predictions:\")\n",
    "test_samples = cslu_processed[\"test\"].select(range(3))\n",
    "predictions = trainer.predict(test_samples)\n",
    "\n",
    "pred_ids = predictions.predictions\n",
    "pred_str = processor.tokenizer.batch_decode(pred_ids, skip_special_tokens=True)\n",
    "\n",
    "for i, (pred, label) in enumerate(zip(pred_str, test_samples[\"labels\"])):\n",
    "    label_str = processor.tokenizer.decode(label, skip_special_tokens=True)\n",
    "    print(f\"\\nSample {i+1}:\")\n",
    "    print(f\"Prediction: {normalize_transcript(pred)}\")\n",
    "    print(f\"Reference:  {normalize_transcript(label_str)}\")"
   ]
  }
 ],
 "metadata": {
  "kernelspec": {
   "display_name": "Python [conda env:hf]",
   "language": "python",
   "name": "conda-env-hf-py"
  }
 },
 "nbformat": 4,
 "nbformat_minor": 5
}
