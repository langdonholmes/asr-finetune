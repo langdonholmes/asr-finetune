{
 "cells": [
  {
   "cell_type": "code",
   "execution_count": 1,
   "id": "af974f5a-2f03-45a4-8bb9-317bf85a9bfe",
   "metadata": {},
   "outputs": [],
   "source": [
    "import torch\n",
    "from transformers import (\n",
    "    AutoModelForSpeechSeq2Seq,\n",
    "    AutoProcessor,\n",
    "    Seq2SeqTrainingArguments,\n",
    "    Seq2SeqTrainer,\n",
    "    pipeline,\n",
    ")\n",
    "from transformers.models.whisper.english_normalizer import BasicTextNormalizer\n",
    "from datasets import Dataset, DatasetDict, load_from_disk\n",
    "\n",
    "import numpy as np\n",
    "from dataclasses import dataclass\n",
    "from typing import Any, Dict, List, Union\n",
    "import re\n",
    "import jiwer"
   ]
  },
  {
   "cell_type": "code",
   "execution_count": 2,
   "id": "222def0e-1b0a-4d70-b44a-e9570baa6c6c",
   "metadata": {},
   "outputs": [],
   "source": [
    "device = \"cuda:0\"\n",
    "torch_dtype = torch.float32\n",
    "model_id = \"openai/whisper-large-v3\"\n",
    "\n",
    "processor = AutoProcessor.from_pretrained(model_id)\n",
    "model = AutoModelForSpeechSeq2Seq.from_pretrained(\n",
    "    model_id, torch_dtype=torch_dtype, low_cpu_mem_usage=True\n",
    ")\n",
    "model.to(device)\n",
    "\n",
    "# Configure generation\n",
    "model.generation_config.language = \"english\"\n",
    "model.generation_config.task = \"transcribe\"\n",
    "model.generation_config.forced_decoder_ids = None"
   ]
  },
  {
   "cell_type": "code",
   "execution_count": 3,
   "id": "c5299154-39dd-4d63-8241-5307658976cb",
   "metadata": {},
   "outputs": [
    {
     "data": {
      "application/vnd.jupyter.widget-view+json": {
       "model_id": "4b30e0740c0e40da87dd240250884c7f",
       "version_major": 2,
       "version_minor": 0
      },
      "text/plain": [
       "Loading dataset from disk:   0%|          | 0/25 [00:00<?, ?it/s]"
      ]
     },
     "metadata": {},
     "output_type": "display_data"
    },
    {
     "data": {
      "text/plain": [
       "DatasetDict({\n",
       "    train: Dataset({\n",
       "        features: ['audio', 'transcription', 'speaker_id', 'date', 'time', 'session_type', 'version', 'split'],\n",
       "        num_rows: 76924\n",
       "    })\n",
       "    validation: Dataset({\n",
       "        features: ['audio', 'transcription', 'speaker_id', 'date', 'time', 'session_type', 'version', 'split'],\n",
       "        num_rows: 12238\n",
       "    })\n",
       "    test: Dataset({\n",
       "        features: ['audio', 'transcription', 'speaker_id', 'date', 'time', 'session_type', 'version', 'split'],\n",
       "        num_rows: 13169\n",
       "    })\n",
       "})"
      ]
     },
     "execution_count": 3,
     "metadata": {},
     "output_type": "execute_result"
    }
   ],
   "source": [
    "myst = load_from_disk(\"/home/jovyan/active-projects/tla-asr-finetune/data/myst_dataset.ds\")\n",
    "myst"
   ]
  },
  {
   "cell_type": "code",
   "execution_count": 4,
   "id": "cb4f238b-1022-4774-aa58-918adfcaafcf",
   "metadata": {},
   "outputs": [],
   "source": [
    "normalizer = BasicTextNormalizer()\n",
    "\n",
    "def normalize_transcript(text):\n",
    "    # The original transcript has annotations, for example a pause is <pau>\n",
    "    # Remove tags in angle brackets\n",
    "    text = re.sub(r'<[^>]*>', '', text)\n",
    "    \n",
    "    # These are \"false starts\" in the original transcript, for example th*\n",
    "    # These are ignored by ASR\n",
    "    # Remove words that end with asterisks (e.g., th*)\n",
    "    text = re.sub(r'\\S*\\*', '', text)\n",
    "\n",
    "    # Remove all punctuation\n",
    "    normalized_text = normalizer(text)\n",
    "\n",
    "    return normalized_text"
   ]
  },
  {
   "cell_type": "code",
   "execution_count": 10,
   "id": "3c95c070",
   "metadata": {},
   "outputs": [
    {
     "data": {
      "application/vnd.jupyter.widget-view+json": {
       "model_id": "5e4a5ae6200f43e4b970e816837f2ce9",
       "version_major": 2,
       "version_minor": 0
      },
      "text/plain": [
       "Filter:   0%|          | 0/36544 [00:00<?, ? examples/s]"
      ]
     },
     "metadata": {},
     "output_type": "display_data"
    },
    {
     "data": {
      "application/vnd.jupyter.widget-view+json": {
       "model_id": "a02b4a04c2ba42b0a1c3917b5abbed04",
       "version_major": 2,
       "version_minor": 0
      },
      "text/plain": [
       "Filter:   0%|          | 0/6013 [00:00<?, ? examples/s]"
      ]
     },
     "metadata": {},
     "output_type": "display_data"
    },
    {
     "data": {
      "application/vnd.jupyter.widget-view+json": {
       "model_id": "58709ea9cebb44abb7f936f04ddac8f6",
       "version_major": 2,
       "version_minor": 0
      },
      "text/plain": [
       "Filter:   0%|          | 0/6321 [00:00<?, ? examples/s]"
      ]
     },
     "metadata": {},
     "output_type": "display_data"
    },
    {
     "name": "stdout",
     "output_type": "stream",
     "text": [
      "36544\n"
     ]
    }
   ],
   "source": [
    "def filter_short_long_samples(batch):\n",
    "    audio_len = batch[\"audio\"][\"array\"].shape[0] / batch[\"audio\"][\"sampling_rate\"]\n",
    "    return 5 <= audio_len <= 30\n",
    "\n",
    "def filter_empty_transcripts(batch):\n",
    "    return len(batch[\"transcription\"].strip()) > 0\n",
    "\n",
    "myst_filtered = myst.filter(filter_short_long_samples).filter(filter_empty_transcripts)\n",
    "\n",
    "print(len(myst_filtered[\"train\"]))"
   ]
  },
  {
   "cell_type": "code",
   "execution_count": 11,
   "id": "860b1c42",
   "metadata": {},
   "outputs": [
    {
     "data": {
      "application/vnd.jupyter.widget-view+json": {
       "model_id": "a26dbf509b0448aba76f206a0e837dfa",
       "version_major": 2,
       "version_minor": 0
      },
      "text/plain": [
       "Map:   0%|          | 0/36544 [00:00<?, ? examples/s]"
      ]
     },
     "metadata": {},
     "output_type": "display_data"
    },
    {
     "data": {
      "application/vnd.jupyter.widget-view+json": {
       "model_id": "a622105d857241adbfcca2c5f8e4a056",
       "version_major": 2,
       "version_minor": 0
      },
      "text/plain": [
       "Map:   0%|          | 0/6013 [00:00<?, ? examples/s]"
      ]
     },
     "metadata": {},
     "output_type": "display_data"
    },
    {
     "data": {
      "application/vnd.jupyter.widget-view+json": {
       "model_id": "23d712070b0947eaa6da3c9e1135c482",
       "version_major": 2,
       "version_minor": 0
      },
      "text/plain": [
       "Map:   0%|          | 0/6321 [00:00<?, ? examples/s]"
      ]
     },
     "metadata": {},
     "output_type": "display_data"
    },
    {
     "data": {
      "text/plain": [
       "Dataset({\n",
       "    features: ['input_features', 'labels'],\n",
       "    num_rows: 36544\n",
       "})"
      ]
     },
     "execution_count": 11,
     "metadata": {},
     "output_type": "execute_result"
    }
   ],
   "source": [
    "def prepare_dataset(batch):\n",
    "    # Load audio\n",
    "    audio = batch[\"audio\"]\n",
    "    sampling_rate = batch[\"audio\"][\"sampling_rate\"]\n",
    "\n",
    "    inputs = processor.feature_extractor(\n",
    "        audio[\"array\"],\n",
    "        sampling_rate=sampling_rate,\n",
    "        return_tensors=\"pt\",\n",
    "        padding=\"max_length\",  # This ensures padding to max length in batch\n",
    "        max_length=30 * sampling_rate,  # 30 seconds at 16kHz\n",
    "        truncation=True,  # Truncate if longer than max_length\n",
    "    )\n",
    "\n",
    "    # Reprocess the filtered audio\n",
    "    batch[\"input_features\"] = inputs.input_features[0]\n",
    "\n",
    "    # Normalize and encode target text\n",
    "    normalized_text = normalize_transcript(batch[\"transcription\"])\n",
    "    batch[\"labels\"] = processor.tokenizer(normalized_text, padding=True).input_ids\n",
    "\n",
    "    return batch\n",
    "\n",
    "myst_processed = myst_filtered.map(\n",
    "    prepare_dataset,\n",
    "    remove_columns=myst_filtered.column_names[\"train\"],\n",
    "    num_proc=1,\n",
    ")\n",
    "\n",
    "myst_processed[\"train\"]\n"
   ]
  },
  {
   "cell_type": "code",
   "execution_count": 13,
   "id": "5f6550b7-a019-4393-9a0e-8352d79d394b",
   "metadata": {},
   "outputs": [],
   "source": [
    "def weighted_wer(ref: list[str], pred: list[str]):\n",
    "    # Normalize both predictions and references\n",
    "    pred_normalized = [normalize_transcript(text) for text in pred]\n",
    "    label_normalized = [normalize_transcript(text) for text in ref]\n",
    "    \n",
    "    total_errors = 0\n",
    "    total_words = 0\n",
    "    \n",
    "    for pred_text, ref_text in zip(pred_normalized, label_normalized):\n",
    "        ref_words = ref_text.split()\n",
    "            \n",
    "        # Compute WER for this sample\n",
    "        if len(ref_words) > 0:\n",
    "            sample_wer = jiwer.wer(ref_text, pred_text)\n",
    "        else:\n",
    "            sample_wer = 0\n",
    "        \n",
    "        # Accumulate weighted errors\n",
    "        sample_errors = sample_wer * len(ref_words)\n",
    "        total_errors += sample_errors\n",
    "        total_words += len(ref_words)\n",
    "    \n",
    "    weighted_wer = total_errors / total_words if total_words > 0 else 0.0\n",
    "    \n",
    "    return {\"wer\": weighted_wer}\n",
    "    \n",
    "\n",
    "def compute_metrics(pred):\n",
    "    pred_ids = pred.predictions\n",
    "    label_ids = pred.label_ids\n",
    "    \n",
    "    # Replace -100 with pad token\n",
    "    label_ids[label_ids == -100] = processor.tokenizer.pad_token_id\n",
    "    \n",
    "    # Decode predictions and labels\n",
    "    pred_str = processor.tokenizer.batch_decode(pred_ids, skip_special_tokens=True)\n",
    "    label_str = processor.tokenizer.batch_decode(label_ids, skip_special_tokens=True)\n",
    "\n",
    "    return weighted_wer(label_str, pred_str)"
   ]
  },
  {
   "cell_type": "code",
   "execution_count": 14,
   "id": "92a34aef",
   "metadata": {},
   "outputs": [
    {
     "data": {
      "text/plain": [
       "DatasetDict({\n",
       "    train: Dataset({\n",
       "        features: ['audio', 'transcription', 'speaker_id', 'date', 'time', 'session_type', 'version', 'split'],\n",
       "        num_rows: 76924\n",
       "    })\n",
       "    validation: Dataset({\n",
       "        features: ['audio', 'transcription', 'speaker_id', 'date', 'time', 'session_type', 'version', 'split'],\n",
       "        num_rows: 12238\n",
       "    })\n",
       "    test: Dataset({\n",
       "        features: ['audio', 'transcription', 'speaker_id', 'date', 'time', 'session_type', 'version', 'split'],\n",
       "        num_rows: 13169\n",
       "    })\n",
       "})"
      ]
     },
     "execution_count": 14,
     "metadata": {},
     "output_type": "execute_result"
    }
   ],
   "source": [
    "myst"
   ]
  },
  {
   "cell_type": "code",
   "execution_count": 16,
   "id": "2c2409ed-4d8a-41f7-9eee-664c3708c6c8",
   "metadata": {},
   "outputs": [
    {
     "data": {
      "text/plain": [
       "{'wer': 0.19560642190320807}"
      ]
     },
     "execution_count": 16,
     "metadata": {},
     "output_type": "execute_result"
    }
   ],
   "source": [
    "def get_baseline(ds):\n",
    "    pipe = pipeline(\n",
    "        \"automatic-speech-recognition\",\n",
    "        model=model,\n",
    "        tokenizer=processor.tokenizer,\n",
    "        feature_extractor=processor.feature_extractor,\n",
    "        batch_size=16,\n",
    "        device=device,\n",
    "        chunk_length_s=30,\n",
    "    )\n",
    "    results = pipe(ds[\"test\"][\"audio\"])\n",
    "    return results\n",
    "\n",
    "def get_wer(y_true, preds):\n",
    "    y_pred = [d[\"text\"] for d in preds]\n",
    "    wer_score = weighted_wer(y_true, y_pred)\n",
    "    return(wer_score)\n",
    "\n",
    "preds = get_baseline(myst)\n",
    "get_wer(myst[\"test\"][\"transcription\"], preds)\n",
    "# 0.19560642190320807"
   ]
  },
  {
   "cell_type": "code",
   "execution_count": 17,
   "id": "c89eff1e-140d-43ad-a4b9-c702a2bc7778",
   "metadata": {},
   "outputs": [],
   "source": [
    "@dataclass\n",
    "class DataCollatorSpeechSeq2SeqWithPadding:\n",
    "    processor: Any\n",
    "    decoder_start_token_id: int\n",
    "\n",
    "    def __call__(self, features: List[Dict[str, Union[List[int], torch.Tensor]]]) -> Dict[str, torch.Tensor]:\n",
    "        # split inputs and labels since they have to be of different lengths and need different padding methods\n",
    "        # first treat the audio inputs by simply returning torch tensors\n",
    "        input_features = [{\"input_features\": feature[\"input_features\"]} for feature in features]\n",
    "        batch = self.processor.feature_extractor.pad(input_features, return_tensors=\"pt\")\n",
    "\n",
    "        # get the tokenized label sequences\n",
    "        label_features = [{\"input_ids\": feature[\"labels\"]} for feature in features]\n",
    "\n",
    "        # pad the labels to max length\n",
    "        labels_batch = self.processor.tokenizer.pad(label_features, return_tensors=\"pt\")\n",
    "\n",
    "        # replace padding with -100 to ignore loss correctly\n",
    "        labels = labels_batch[\"input_ids\"].masked_fill(labels_batch.attention_mask.ne(1), -100)\n",
    "\n",
    "        # if bos token is appended in previous tokenization step,\n",
    "        # cut bos token here as it's append later anyways\n",
    "        if (labels[:, 0] == self.decoder_start_token_id).all().cpu().item():\n",
    "            labels = labels[:, 1:]\n",
    "\n",
    "        batch[\"labels\"] = labels\n",
    "\n",
    "        return batch\n",
    "\n",
    "data_collator = DataCollatorSpeechSeq2SeqWithPadding(\n",
    "    processor=processor,\n",
    "    decoder_start_token_id=model.config.decoder_start_token_id,\n",
    ")"
   ]
  },
  {
   "cell_type": "code",
   "execution_count": 18,
   "id": "06954565-b7cc-4bf3-8a47-3d3b5543e422",
   "metadata": {},
   "outputs": [],
   "source": [
    "training_args = Seq2SeqTrainingArguments(\n",
    "    output_dir=\"../bin/whisper-myst\",\n",
    "    per_device_train_batch_size=8, # About 30 GiB of VRAM with 2x gradient accumulation\n",
    "    gradient_accumulation_steps=2,\n",
    "    learning_rate=1e-6,\n",
    "    warmup_steps=100,\n",
    "    max_steps=1_000,\n",
    "    gradient_checkpointing=True,\n",
    "    fp16=True,\n",
    "    eval_strategy=\"steps\",\n",
    "    per_device_eval_batch_size=16, # About 30GiB of VRAM\n",
    "    predict_with_generate=True,\n",
    "    save_steps=200,\n",
    "    eval_steps=200,\n",
    "    logging_steps=50,\n",
    "    report_to=[],  # Disable logging for simplicity\n",
    "    load_best_model_at_end=True,\n",
    "    metric_for_best_model=\"wer\",\n",
    "    greater_is_better=False,\n",
    "    push_to_hub=False,\n",
    ")\n",
    "\n",
    "trainer = Seq2SeqTrainer(\n",
    "    args=training_args,\n",
    "    model=model,\n",
    "    train_dataset=myst_processed[\"train\"],\n",
    "    eval_dataset=myst_processed[\"test\"],\n",
    "    data_collator=data_collator,\n",
    "    compute_metrics=compute_metrics,\n",
    "    processing_class=processor.feature_extractor,\n",
    ")"
   ]
  },
  {
   "cell_type": "code",
   "execution_count": 19,
   "id": "e1f4e339-3c2f-4a0f-b6b8-ad6ec32252ac",
   "metadata": {},
   "outputs": [
    {
     "name": "stdout",
     "output_type": "stream",
     "text": [
      "Starting training...\n"
     ]
    },
    {
     "name": "stderr",
     "output_type": "stream",
     "text": [
      "Passing a tuple of `past_key_values` is deprecated and will be removed in Transformers v4.43.0. You should pass an instance of `EncoderDecoderCache` instead, e.g. `past_key_values=EncoderDecoderCache.from_legacy_cache(past_key_values)`.\n",
      "`use_cache = True` is incompatible with gradient checkpointing. Setting `use_cache = False`...\n"
     ]
    },
    {
     "data": {
      "text/html": [
       "\n",
       "    <div>\n",
       "      \n",
       "      <progress value='1000' max='1000' style='width:300px; height:20px; vertical-align: middle;'></progress>\n",
       "      [1000/1000 10:01:30, Epoch 0/1]\n",
       "    </div>\n",
       "    <table border=\"1\" class=\"dataframe\">\n",
       "  <thead>\n",
       " <tr style=\"text-align: left;\">\n",
       "      <th>Step</th>\n",
       "      <th>Training Loss</th>\n",
       "      <th>Validation Loss</th>\n",
       "      <th>Wer</th>\n",
       "    </tr>\n",
       "  </thead>\n",
       "  <tbody>\n",
       "    <tr>\n",
       "      <td>200</td>\n",
       "      <td>0.587100</td>\n",
       "      <td>0.549029</td>\n",
       "      <td>0.178696</td>\n",
       "    </tr>\n",
       "    <tr>\n",
       "      <td>400</td>\n",
       "      <td>0.345500</td>\n",
       "      <td>0.414291</td>\n",
       "      <td>0.150277</td>\n",
       "    </tr>\n",
       "    <tr>\n",
       "      <td>600</td>\n",
       "      <td>0.298200</td>\n",
       "      <td>0.401005</td>\n",
       "      <td>0.137361</td>\n",
       "    </tr>\n",
       "    <tr>\n",
       "      <td>800</td>\n",
       "      <td>0.297500</td>\n",
       "      <td>0.395200</td>\n",
       "      <td>0.137282</td>\n",
       "    </tr>\n",
       "    <tr>\n",
       "      <td>1000</td>\n",
       "      <td>0.299000</td>\n",
       "      <td>0.391985</td>\n",
       "      <td>0.136113</td>\n",
       "    </tr>\n",
       "  </tbody>\n",
       "</table><p>"
      ],
      "text/plain": [
       "<IPython.core.display.HTML object>"
      ]
     },
     "metadata": {},
     "output_type": "display_data"
    },
    {
     "name": "stderr",
     "output_type": "stream",
     "text": [
      "/home/jovyan/conda_envs/hf/lib/python3.11/site-packages/transformers/modeling_utils.py:2810: UserWarning: Moving the following attributes in the config to the generation config: {'max_length': 448, 'begin_suppress_tokens': [220, 50257]}. You are seeing this warning because you've set generation parameters in the model config, as opposed to in the generation config.\n",
      "  warnings.warn(\n",
      "There were missing keys in the checkpoint model loaded: ['proj_out.weight'].\n"
     ]
    },
    {
     "data": {
      "text/plain": [
       "TrainOutput(global_step=1000, training_loss=0.47948250007629395, metrics={'train_runtime': 36098.4593, 'train_samples_per_second': 0.443, 'train_steps_per_second': 0.028, 'total_flos': 5.435997290496e+19, 'train_loss': 0.47948250007629395, 'epoch': 0.43782837127845886})"
      ]
     },
     "execution_count": 19,
     "metadata": {},
     "output_type": "execute_result"
    }
   ],
   "source": [
    "# Start training\n",
    "print(\"Starting training...\")\n",
    "trainer.train()\n",
    "\n",
    "# 0.136113 with learning_rate 1e-6 on MyST"
   ]
  },
  {
   "cell_type": "code",
   "execution_count": 21,
   "id": "b4948ba0-f8a5-40f2-9bfe-b701f4ab9f8f",
   "metadata": {},
   "outputs": [],
   "source": [
    "trainer.save_model(\"../bin/myst1\")"
   ]
  },
  {
   "cell_type": "code",
   "execution_count": 22,
   "id": "984a9576-27fe-442d-8f26-f9b32e8d1001",
   "metadata": {},
   "outputs": [
    {
     "name": "stdout",
     "output_type": "stream",
     "text": [
      "Evaluating final model...\n"
     ]
    },
    {
     "data": {
      "text/html": [
       "\n",
       "    <div>\n",
       "      \n",
       "      <progress value='396' max='396' style='width:300px; height:20px; vertical-align: middle;'></progress>\n",
       "      [396/396 56:45]\n",
       "    </div>\n",
       "    "
      ],
      "text/plain": [
       "<IPython.core.display.HTML object>"
      ]
     },
     "metadata": {},
     "output_type": "display_data"
    },
    {
     "name": "stdout",
     "output_type": "stream",
     "text": [
      "Final WER: 0.1361\n"
     ]
    }
   ],
   "source": [
    "# Evaluate final model\n",
    "print(\"Evaluating final model...\")\n",
    "final_results = trainer.evaluate()\n",
    "print(f\"Final WER: {final_results['eval_wer']:.4f}\")"
   ]
  },
  {
   "cell_type": "code",
   "execution_count": null,
   "id": "8bd2f70e-6e49-40e8-bfe2-a5cdf315e276",
   "metadata": {},
   "outputs": [],
   "source": [
    "# Test on a few samples\n",
    "print(\"\\nTesting on sample predictions:\")\n",
    "test_samples = cslu_processed[\"test\"].select(range(3))\n",
    "predictions = trainer.predict(test_samples)\n",
    "\n",
    "pred_ids = predictions.predictions\n",
    "pred_str = processor.tokenizer.batch_decode(pred_ids, skip_special_tokens=True)\n",
    "\n",
    "for i, (pred, label) in enumerate(zip(pred_str, test_samples[\"labels\"])):\n",
    "    label_str = processor.tokenizer.decode(label, skip_special_tokens=True)\n",
    "    print(f\"\\nSample {i+1}:\")\n",
    "    print(f\"Prediction: {normalize_transcript(pred)}\")\n",
    "    print(f\"Reference:  {normalize_transcript(label_str)}\")"
   ]
  }
 ],
 "metadata": {
  "kernelspec": {
   "display_name": "Python [conda env:hf]",
   "language": "python",
   "name": "conda-env-hf-py"
  },
  "language_info": {
   "codemirror_mode": {
    "name": "ipython",
    "version": 3
   },
   "file_extension": ".py",
   "mimetype": "text/x-python",
   "name": "python",
   "nbconvert_exporter": "python",
   "pygments_lexer": "ipython3",
   "version": "3.11.6"
  }
 },
 "nbformat": 4,
 "nbformat_minor": 5
}
