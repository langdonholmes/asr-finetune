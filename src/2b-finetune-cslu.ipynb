{
 "cells": [
  {
   "cell_type": "code",
   "execution_count": 8,
   "id": "af974f5a-2f03-45a4-8bb9-317bf85a9bfe",
   "metadata": {},
   "outputs": [],
   "source": [
    "import torch\n",
    "from transformers import (\n",
    "    AutoModelForSpeechSeq2Seq,\n",
    "    AutoProcessor,\n",
    "    Seq2SeqTrainingArguments,\n",
    "    Seq2SeqTrainer,\n",
    ")\n",
    "from transformers.models.whisper.english_normalizer import BasicTextNormalizer\n",
    "from datasets import Dataset, DatasetDict, load_from_disk\n",
    "\n",
    "import numpy as np\n",
    "import pandas as pd\n",
    "from dataclasses import dataclass\n",
    "from typing import Any, Dict, List, Union\n",
    "import re\n",
    "import jiwer"
   ]
  },
  {
   "cell_type": "code",
   "execution_count": 2,
   "id": "222def0e-1b0a-4d70-b44a-e9570baa6c6c",
   "metadata": {},
   "outputs": [],
   "source": [
    "device = \"cuda:0\"\n",
    "torch_dtype = torch.float32\n",
    "model_id = \"openai/whisper-large-v3\"\n",
    "\n",
    "processor = AutoProcessor.from_pretrained(model_id)\n",
    "model = AutoModelForSpeechSeq2Seq.from_pretrained(\n",
    "    model_id, torch_dtype=torch_dtype, low_cpu_mem_usage=True\n",
    ")\n",
    "model.to(device)\n",
    "\n",
    "# Configure generation\n",
    "model.generation_config.language = \"english\"\n",
    "model.generation_config.task = \"transcribe\"\n",
    "model.generation_config.forced_decoder_ids = None"
   ]
  },
  {
   "cell_type": "code",
   "execution_count": 3,
   "id": "c5299154-39dd-4d63-8241-5307658976cb",
   "metadata": {},
   "outputs": [],
   "source": [
    "cslu = load_from_disk(\"../data/cslu_kids_segmented_2.ds\").train_test_split(\n",
    "    test_size=0.2, seed=42\n",
    ")"
   ]
  },
  {
   "cell_type": "code",
   "execution_count": 4,
   "id": "47a41f8e-5b44-438e-8cc6-9e5b849c3bb8",
   "metadata": {},
   "outputs": [
    {
     "data": {
      "text/plain": [
       "DatasetDict({\n",
       "    train: Dataset({\n",
       "        features: ['audio', 'grade', 'id', 'text', 'start_time', 'end_time', 'duration', 'word_start_idx', 'word_end_idx'],\n",
       "        num_rows: 6111\n",
       "    })\n",
       "    test: Dataset({\n",
       "        features: ['audio', 'grade', 'id', 'text', 'start_time', 'end_time', 'duration', 'word_start_idx', 'word_end_idx'],\n",
       "        num_rows: 1528\n",
       "    })\n",
       "})"
      ]
     },
     "execution_count": 4,
     "metadata": {},
     "output_type": "execute_result"
    }
   ],
   "source": [
    "cslu"
   ]
  },
  {
   "cell_type": "code",
   "execution_count": 5,
   "id": "cb4f238b-1022-4774-aa58-918adfcaafcf",
   "metadata": {},
   "outputs": [],
   "source": [
    "normalizer = BasicTextNormalizer()\n",
    "\n",
    "\n",
    "def normalize_transcript(text):\n",
    "    # The original transcript has annotations, for example a pause is <pau>\n",
    "    # Remove tags in angle brackets\n",
    "    text = re.sub(r\"<[^>]*>\", \"\", text)\n",
    "\n",
    "    # These are \"false starts\" in the original transcript, for example th*\n",
    "    # These are ignored by ASR\n",
    "    # Remove words that end with asterisks (e.g., th*)\n",
    "    text = re.sub(r\"\\S*\\*\", \"\", text)\n",
    "\n",
    "    # Remove all punctuation\n",
    "    normalized_text = normalizer(text)\n",
    "\n",
    "    return normalized_text"
   ]
  },
  {
   "cell_type": "code",
   "execution_count": 6,
   "id": "fe83ae53-6bcb-4def-af5b-d60717515004",
   "metadata": {},
   "outputs": [
    {
     "data": {
      "text/plain": [
       "DatasetDict({\n",
       "    train: Dataset({\n",
       "        features: ['grade', 'id', 'input_features', 'labels'],\n",
       "        num_rows: 6111\n",
       "    })\n",
       "    test: Dataset({\n",
       "        features: ['grade', 'id', 'input_features', 'labels'],\n",
       "        num_rows: 1528\n",
       "    })\n",
       "})"
      ]
     },
     "execution_count": 6,
     "metadata": {},
     "output_type": "execute_result"
    }
   ],
   "source": [
    "def prepare_dataset(batch):\n",
    "    # Load audio\n",
    "    audio = batch[\"audio\"]\n",
    "    sampling_rate = batch[\"audio\"][\"sampling_rate\"]\n",
    "\n",
    "    inputs = processor.feature_extractor(\n",
    "        audio[\"array\"],\n",
    "        sampling_rate=sampling_rate,\n",
    "        return_tensors=\"pt\",\n",
    "        padding=\"max_length\",  # This ensures padding to max length in batch\n",
    "        max_length=30 * sampling_rate,  # 30 seconds at 16kHz\n",
    "        truncation=True,  # Truncate if longer than max_length\n",
    "    )\n",
    "\n",
    "    # Reprocess the filtered audio\n",
    "    batch[\"input_features\"] = inputs.input_features[0]\n",
    "\n",
    "    # Normalize and encode target text\n",
    "    normalized_text = normalize_transcript(batch[\"text\"])\n",
    "    batch[\"labels\"] = processor.tokenizer(normalized_text, padding=True).input_ids\n",
    "\n",
    "    return batch\n",
    "\n",
    "\n",
    "cslu_processed = cslu.map(\n",
    "    prepare_dataset,\n",
    "    remove_columns=[\n",
    "        \"audio\",\n",
    "        \"text\",\n",
    "        \"start_time\",\n",
    "        \"end_time\",\n",
    "        \"duration\",\n",
    "        \"word_start_idx\",\n",
    "        \"word_end_idx\",\n",
    "    ],\n",
    "    num_proc=1,\n",
    ")\n",
    "\n",
    "cslu_processed"
   ]
  },
  {
   "cell_type": "code",
   "execution_count": 7,
   "id": "5f6550b7-a019-4393-9a0e-8352d79d394b",
   "metadata": {},
   "outputs": [],
   "source": [
    "def weighted_wer(ref: list[str], pred: list[str]):\n",
    "    # Normalize both predictions and references\n",
    "    pred_normalized = [normalize_transcript(text) for text in pred]\n",
    "    label_normalized = [normalize_transcript(text) for text in ref]\n",
    "\n",
    "    total_errors = 0\n",
    "    total_words = 0\n",
    "\n",
    "    for pred_text, ref_text in zip(pred_normalized, label_normalized):\n",
    "        ref_words = ref_text.split()\n",
    "\n",
    "        # Compute WER for this sample\n",
    "        sample_wer = jiwer.wer(ref_text, pred_text)\n",
    "\n",
    "        # Accumulate weighted errors\n",
    "        sample_errors = sample_wer * len(ref_words)\n",
    "        total_errors += sample_errors\n",
    "        total_words += len(ref_words)\n",
    "\n",
    "    weighted_wer = total_errors / total_words if total_words > 0 else 0.0\n",
    "\n",
    "    return {\"wer\": weighted_wer}\n",
    "\n",
    "\n",
    "def compute_metrics(pred):\n",
    "    pred_ids = pred.predictions\n",
    "    label_ids = pred.label_ids\n",
    "\n",
    "    # Replace -100 with pad token\n",
    "    label_ids[label_ids == -100] = processor.tokenizer.pad_token_id\n",
    "\n",
    "    # Decode predictions and labels\n",
    "    pred_str = processor.tokenizer.batch_decode(pred_ids, skip_special_tokens=True)\n",
    "    label_str = processor.tokenizer.batch_decode(label_ids, skip_special_tokens=True)\n",
    "\n",
    "    return weighted_wer(label_str, pred_str)"
   ]
  },
  {
   "cell_type": "code",
   "execution_count": 9,
   "id": "2c2409ed-4d8a-41f7-9eee-664c3708c6c8",
   "metadata": {},
   "outputs": [],
   "source": [
    "def get_predictions(ds, model=model):\n",
    "    from transformers import pipeline\n",
    "\n",
    "    pipe = pipeline(\n",
    "        \"automatic-speech-recognition\",\n",
    "        model=model,\n",
    "        tokenizer=processor.tokenizer,\n",
    "        feature_extractor=processor.feature_extractor,\n",
    "        batch_size=16,\n",
    "        device=device,\n",
    "    )\n",
    "    results = pipe(ds[\"test\"][\"audio\"])\n",
    "    predictions = [d[\"text\"] for d in results]\n",
    "    return predictions\n",
    "\n",
    "\n",
    "# predictions = get_predictions(cslu)\n",
    "# references = cslu[\"test\"][\"text\"]\n",
    "# wer_score = weighted_wer(references, predictions)\n",
    "# print(wer_score)\n",
    "\n",
    "# 0.7680394631180452 on cslu_kids_segmented.ds\n",
    "# 0.6294238568809378 with weighted WER on cslu_kids_segmented_2.ds"
   ]
  },
  {
   "cell_type": "code",
   "execution_count": 16,
   "id": "27962197-7ce7-49fd-ba69-53c0a25ff994",
   "metadata": {},
   "outputs": [
    {
     "name": "stdout",
     "output_type": "stream",
     "text": [
      "Grade: 00\n",
      "WER  : {'wer': 0.7615740740740741}\n",
      "Grade: 01\n",
      "WER  : {'wer': 0.7450847457627119}\n",
      "Grade: 02\n",
      "WER  : {'wer': 0.8187861271676301}\n",
      "Grade: 03\n",
      "WER  : {'wer': 0.6882440476190477}\n",
      "Grade: 04\n",
      "WER  : {'wer': 0.5934838948537579}\n",
      "Grade: 05\n",
      "WER  : {'wer': 0.7623289850461342}\n",
      "Grade: 06\n",
      "WER  : {'wer': 0.552858439201452}\n",
      "Grade: 07\n",
      "WER  : {'wer': 0.5267741935483871}\n",
      "Grade: 08\n",
      "WER  : {'wer': 0.542796384901648}\n",
      "Grade: 09\n",
      "WER  : {'wer': 0.4832142857142857}\n",
      "Grade: 10\n",
      "WER  : {'wer': 0.5005743825387708}\n"
     ]
    }
   ],
   "source": [
    "df = cslu[\"test\"].to_pandas()\n",
    "df[\"preds\"] = predictions\n",
    "\n",
    "for name, group in df.groupby(\"grade\"):\n",
    "    print(f\"Grade: {name}\")\n",
    "    wer = weighted_wer(group[\"text\"], group[\"preds\"])\n",
    "    print(f\"WER  : {wer}\")"
   ]
  },
  {
   "cell_type": "code",
   "execution_count": 15,
   "id": "c89eff1e-140d-43ad-a4b9-c702a2bc7778",
   "metadata": {},
   "outputs": [],
   "source": [
    "@dataclass\n",
    "class DataCollatorSpeechSeq2SeqWithPadding:\n",
    "    processor: Any\n",
    "    decoder_start_token_id: int\n",
    "\n",
    "    def __call__(\n",
    "        self, features: List[Dict[str, Union[List[int], torch.Tensor]]]\n",
    "    ) -> Dict[str, torch.Tensor]:\n",
    "        # split inputs and labels since they have to be of different lengths and need different padding methods\n",
    "        # first treat the audio inputs by simply returning torch tensors\n",
    "        input_features = [\n",
    "            {\"input_features\": feature[\"input_features\"]} for feature in features\n",
    "        ]\n",
    "        batch = self.processor.feature_extractor.pad(\n",
    "            input_features, return_tensors=\"pt\"\n",
    "        )\n",
    "\n",
    "        # get the tokenized label sequences\n",
    "        label_features = [{\"input_ids\": feature[\"labels\"]} for feature in features]\n",
    "\n",
    "        # pad the labels to max length\n",
    "        labels_batch = self.processor.tokenizer.pad(label_features, return_tensors=\"pt\")\n",
    "\n",
    "        # replace padding with -100 to ignore loss correctly\n",
    "        labels = labels_batch[\"input_ids\"].masked_fill(\n",
    "            labels_batch.attention_mask.ne(1), -100\n",
    "        )\n",
    "\n",
    "        # if bos token is appended in previous tokenization step,\n",
    "        # cut bos token here as it's append later anyways\n",
    "        if (labels[:, 0] == self.decoder_start_token_id).all().cpu().item():\n",
    "            labels = labels[:, 1:]\n",
    "\n",
    "        batch[\"labels\"] = labels\n",
    "\n",
    "        return batch\n",
    "\n",
    "\n",
    "data_collator = DataCollatorSpeechSeq2SeqWithPadding(\n",
    "    processor=processor,\n",
    "    decoder_start_token_id=model.config.decoder_start_token_id,\n",
    ")"
   ]
  },
  {
   "cell_type": "code",
   "execution_count": 16,
   "id": "06954565-b7cc-4bf3-8a47-3d3b5543e422",
   "metadata": {},
   "outputs": [],
   "source": [
    "training_args = Seq2SeqTrainingArguments(\n",
    "    output_dir=\"../bin/whisper-cslu-kids\",\n",
    "    per_device_train_batch_size=8,  # About 30 GiB of VRAM with 2x gradient accumulation\n",
    "    gradient_accumulation_steps=2,\n",
    "    learning_rate=1e-6,\n",
    "    warmup_steps=100,\n",
    "    max_steps=1_000,\n",
    "    gradient_checkpointing=True,\n",
    "    fp16=True,\n",
    "    eval_strategy=\"steps\",\n",
    "    per_device_eval_batch_size=16,  # About 30GiB of VRAM\n",
    "    predict_with_generate=True,\n",
    "    save_steps=200,\n",
    "    eval_steps=200,\n",
    "    logging_steps=50,\n",
    "    report_to=[],  # Disable logging for simplicity\n",
    "    load_best_model_at_end=True,\n",
    "    metric_for_best_model=\"wer\",\n",
    "    greater_is_better=False,\n",
    "    push_to_hub=False,\n",
    ")\n",
    "\n",
    "trainer = Seq2SeqTrainer(\n",
    "    args=training_args,\n",
    "    model=model,\n",
    "    train_dataset=cslu_processed[\"train\"],\n",
    "    eval_dataset=cslu_processed[\"test\"],\n",
    "    data_collator=data_collator,\n",
    "    compute_metrics=compute_metrics,\n",
    "    processing_class=processor.feature_extractor,\n",
    ")"
   ]
  },
  {
   "cell_type": "code",
   "execution_count": 17,
   "id": "e1f4e339-3c2f-4a0f-b6b8-ad6ec32252ac",
   "metadata": {},
   "outputs": [
    {
     "name": "stdout",
     "output_type": "stream",
     "text": [
      "Starting training...\n"
     ]
    },
    {
     "name": "stderr",
     "output_type": "stream",
     "text": [
      "Passing a tuple of `past_key_values` is deprecated and will be removed in Transformers v4.43.0. You should pass an instance of `EncoderDecoderCache` instead, e.g. `past_key_values=EncoderDecoderCache.from_legacy_cache(past_key_values)`.\n",
      "`use_cache = True` is incompatible with gradient checkpointing. Setting `use_cache = False`...\n"
     ]
    },
    {
     "data": {
      "text/html": [
       "\n",
       "    <div>\n",
       "      \n",
       "      <progress value='1000' max='1000' style='width:300px; height:20px; vertical-align: middle;'></progress>\n",
       "      [1000/1000 3:35:55, Epoch 2/3]\n",
       "    </div>\n",
       "    <table border=\"1\" class=\"dataframe\">\n",
       "  <thead>\n",
       " <tr style=\"text-align: left;\">\n",
       "      <th>Step</th>\n",
       "      <th>Training Loss</th>\n",
       "      <th>Validation Loss</th>\n",
       "      <th>Wer</th>\n",
       "    </tr>\n",
       "  </thead>\n",
       "  <tbody>\n",
       "    <tr>\n",
       "      <td>200</td>\n",
       "      <td>1.255900</td>\n",
       "      <td>1.236912</td>\n",
       "      <td>0.546898</td>\n",
       "    </tr>\n",
       "    <tr>\n",
       "      <td>400</td>\n",
       "      <td>1.135000</td>\n",
       "      <td>1.195005</td>\n",
       "      <td>0.526968</td>\n",
       "    </tr>\n",
       "    <tr>\n",
       "      <td>600</td>\n",
       "      <td>0.994300</td>\n",
       "      <td>1.181876</td>\n",
       "      <td>0.515787</td>\n",
       "    </tr>\n",
       "    <tr>\n",
       "      <td>800</td>\n",
       "      <td>0.939600</td>\n",
       "      <td>1.186429</td>\n",
       "      <td>0.561642</td>\n",
       "    </tr>\n",
       "    <tr>\n",
       "      <td>1000</td>\n",
       "      <td>0.904700</td>\n",
       "      <td>1.191074</td>\n",
       "      <td>0.574706</td>\n",
       "    </tr>\n",
       "  </tbody>\n",
       "</table><p>"
      ],
      "text/plain": [
       "<IPython.core.display.HTML object>"
      ]
     },
     "metadata": {},
     "output_type": "display_data"
    },
    {
     "name": "stderr",
     "output_type": "stream",
     "text": [
      "The attention mask is not set and cannot be inferred from input because pad token is same as eos token. As a consequence, you may observe unexpected behavior. Please pass your input's `attention_mask` to obtain reliable results.\n",
      "/home/jovyan/conda_envs/hf/lib/python3.11/site-packages/transformers/modeling_utils.py:2810: UserWarning: Moving the following attributes in the config to the generation config: {'max_length': 448, 'begin_suppress_tokens': [220, 50257]}. You are seeing this warning because you've set generation parameters in the model config, as opposed to in the generation config.\n",
      "  warnings.warn(\n",
      "There were missing keys in the checkpoint model loaded: ['proj_out.weight'].\n"
     ]
    },
    {
     "data": {
      "text/plain": [
       "TrainOutput(global_step=1000, training_loss=1.157503734588623, metrics={'train_runtime': 12963.215, 'train_samples_per_second': 1.234, 'train_steps_per_second': 0.077, 'total_flos': 5.435317790834688e+19, 'train_loss': 1.157503734588623, 'epoch': 2.6178010471204187})"
      ]
     },
     "execution_count": 17,
     "metadata": {},
     "output_type": "execute_result"
    }
   ],
   "source": [
    "# Start training\n",
    "print(\"Starting training...\")\n",
    "trainer.train()\n",
    "\n",
    "# 0.5158 with learning_rate=1e-5 on cslu_kids_segmented.ds\n",
    "# 0.5158 with learning_rate=1e-5 on cslu_kids_segmented_2.ds"
   ]
  },
  {
   "cell_type": "code",
   "execution_count": 18,
   "id": "b4948ba0-f8a5-40f2-9bfe-b701f4ab9f8f",
   "metadata": {},
   "outputs": [],
   "source": [
    "trainer.save_model(\"../bin/whisper-cslu-kids/\")"
   ]
  },
  {
   "cell_type": "markdown",
   "id": "287167fe-2a8e-44b2-9960-57df2a8a0e36",
   "metadata": {},
   "source": [
    "## Evaluate"
   ]
  },
  {
   "cell_type": "code",
   "execution_count": 10,
   "id": "cf3e125b-29f5-4a74-82cf-43d5bc4c337c",
   "metadata": {},
   "outputs": [
    {
     "data": {
      "application/vnd.jupyter.widget-view+json": {
       "model_id": "ec84da6f85074a8b8e9bd0fff031c881",
       "version_major": 2,
       "version_minor": 0
      },
      "text/plain": [
       "Loading checkpoint shards:   0%|          | 0/2 [00:00<?, ?it/s]"
      ]
     },
     "metadata": {},
     "output_type": "display_data"
    },
    {
     "name": "stderr",
     "output_type": "stream",
     "text": [
      "Device set to use cuda:0\n",
      "/home/jovyan/conda_envs/hf/lib/python3.11/site-packages/transformers/models/whisper/generation_whisper.py:573: FutureWarning: The input name `inputs` is deprecated. Please make sure to use `input_features` instead.\n",
      "  warnings.warn(\n"
     ]
    }
   ],
   "source": [
    "# Evaluate final model\n",
    "def get_predictions(ds, model=model):\n",
    "    from transformers import pipeline\n",
    "\n",
    "    pipe = pipeline(\n",
    "        \"automatic-speech-recognition\",\n",
    "        model=model,\n",
    "        tokenizer=processor.tokenizer,\n",
    "        feature_extractor=processor.feature_extractor,\n",
    "        batch_size=16,\n",
    "        device=device,\n",
    "    )\n",
    "    results = pipe(ds[\"test\"][\"audio\"])\n",
    "    predictions = [d[\"text\"] for d in results]\n",
    "    return predictions\n",
    "\n",
    "\n",
    "finetuned_model = model = AutoModelForSpeechSeq2Seq.from_pretrained(\n",
    "    \"../bin/whisper-cslu-kids/\", torch_dtype=torch_dtype, low_cpu_mem_usage=True\n",
    ")\n",
    "\n",
    "predictions = get_predictions(cslu, model=finetuned_model)"
   ]
  },
  {
   "cell_type": "code",
   "execution_count": 11,
   "id": "92640cf6-b7cc-4d60-b232-16fa9bdc77cf",
   "metadata": {},
   "outputs": [
    {
     "name": "stdout",
     "output_type": "stream",
     "text": [
      "{'wer': 0.5555308628257125}\n"
     ]
    }
   ],
   "source": [
    "references = cslu[\"test\"][\"text\"]\n",
    "wer_score = weighted_wer(references, predictions)\n",
    "print(wer_score)"
   ]
  },
  {
   "cell_type": "code",
   "execution_count": 18,
   "id": "eab05b56-3edf-4ec4-a4a1-e64f99a35839",
   "metadata": {},
   "outputs": [
    {
     "name": "stdout",
     "output_type": "stream",
     "text": [
      "Grade: 00\n",
      "WER  : {'wer': 0.6856481481481481}\n",
      "Grade: 01\n",
      "WER  : {'wer': 0.6661016949152543}\n",
      "Grade: 02\n",
      "WER  : {'wer': 0.6216763005780347}\n",
      "Grade: 03\n",
      "WER  : {'wer': 0.6237599206349206}\n",
      "Grade: 04\n",
      "WER  : {'wer': 0.5105516475379489}\n",
      "Grade: 05\n",
      "WER  : {'wer': 0.6115176582882597}\n",
      "Grade: 06\n",
      "WER  : {'wer': 0.5362976406533575}\n",
      "Grade: 07\n",
      "WER  : {'wer': 0.5138709677419355}\n",
      "Grade: 08\n",
      "WER  : {'wer': 0.4548112706007443}\n",
      "Grade: 09\n",
      "WER  : {'wer': 0.445}\n",
      "Grade: 10\n",
      "WER  : {'wer': 0.47989661114302123}\n"
     ]
    }
   ],
   "source": [
    "df = cslu[\"test\"].to_pandas()\n",
    "df[\"preds\"] = predictions\n",
    "\n",
    "for name, group in df.groupby(\"grade\"):\n",
    "    print(f\"Grade: {name}\")\n",
    "    wer = weighted_wer(group[\"text\"], group[\"preds\"])\n",
    "    print(f\"WER  : {wer}\")"
   ]
  },
  {
   "cell_type": "code",
   "execution_count": null,
   "id": "f87dfa68-8d32-49ba-a867-c63bc9462b0d",
   "metadata": {},
   "outputs": [],
   "source": []
  }
 ],
 "metadata": {
  "kernelspec": {
   "display_name": "Python [conda env:hf]",
   "language": "python",
   "name": "conda-env-hf-py"
  },
  "language_info": {
   "codemirror_mode": {
    "name": "ipython",
    "version": 3
   },
   "file_extension": ".py",
   "mimetype": "text/x-python",
   "name": "python",
   "nbconvert_exporter": "python",
   "pygments_lexer": "ipython3",
   "version": "3.11.6"
  }
 },
 "nbformat": 4,
 "nbformat_minor": 5
}
