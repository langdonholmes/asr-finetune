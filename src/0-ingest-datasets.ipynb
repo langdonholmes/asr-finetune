{
 "cells": [
  {
   "cell_type": "markdown",
   "id": "8b8e4aaf-fef9-4034-abba-970133ee8bec",
   "metadata": {},
   "source": [
    "# Overview\n",
    "\n",
    "This notebook ingests data from multiple sources and formats and coverts it to a standard HuggingFace dataset format.\n",
    "\n",
    "All datasets will have \"sentence\" and \"audio\" features. Different datasets may contain additional metadata information."
   ]
  },
  {
   "cell_type": "code",
   "execution_count": 2,
   "id": "f19e7bd4-5bce-42cd-b4b6-cb907185215c",
   "metadata": {},
   "outputs": [],
   "source": [
    "import os\n",
    "import glob\n",
    "from pathlib import Path\n",
    "from typing import Dict, List, Tuple\n",
    "\n",
    "from tqdm.auto import tqdm\n",
    "from datasets import Dataset, DatasetDict, Features, Audio, Value\n",
    "import pandas as pd"
   ]
  },
  {
   "cell_type": "markdown",
   "id": "8000c842-1a41-4b40-9162-96017e02fee6",
   "metadata": {},
   "source": [
    "## MyST"
   ]
  },
  {
   "cell_type": "code",
   "execution_count": 3,
   "id": "80aeb225-b7dc-4974-a41d-0c79308bffa3",
   "metadata": {},
   "outputs": [],
   "source": [
    "def find_audio_transcript_pairs(data_dir: str) -> List[Tuple[str, str]]:\n",
    "    \"\"\"Find all matching .flac and .trn file pairs\"\"\"\n",
    "    flac_files = glob.glob(os.path.join(data_dir, \"**/*.flac\"), recursive=True)\n",
    "    pairs = []\n",
    "    not_found_counter = 0\n",
    "    for flac_file in flac_files:\n",
    "        # Get corresponding .trn file\n",
    "        trn_file = flac_file.replace('.flac', '.trn')\n",
    "        \n",
    "        if os.path.exists(trn_file):\n",
    "            pairs.append((flac_file, trn_file))\n",
    "        else:\n",
    "            not_found_counter += 1\n",
    "\n",
    "    print(f\"Missing {not_found_counter} transcripts. These will not be included in the dataset.\")\n",
    "\n",
    "    return pairs\n",
    "\n",
    "def read_transcription(trn_file: str) -> str:\n",
    "    \"\"\"Read transcription from .trn file\"\"\"\n",
    "    try:\n",
    "        with open(trn_file, 'r', encoding='utf-8') as f:\n",
    "            transcript = f.read().strip()\n",
    "        \n",
    "        return transcript\n",
    "    except Exception as e:\n",
    "        print(f\"Error reading {trn_file}: {e}\")\n",
    "        return \"\"\n",
    "\n",
    "def extract_metadata(filename: str) -> Dict[str, str]:\n",
    "    \"\"\"Extract metadata from filename\"\"\"\n",
    "    basename = os.path.basename(filename)\n",
    "    parts = basename.replace('.flac', '').replace('.trn', '').split('_')\n",
    "    \n",
    "    # Based on your naming: myst_002116_2014-03-04_09-24-51_LS_1.3\n",
    "    metadata = {\n",
    "        'speaker_id': parts[1] if len(parts) > 1 else 'unknown',\n",
    "        'date': parts[2] if len(parts) > 2 else 'unknown',\n",
    "        'time': parts[3] if len(parts) > 3 else 'unknown',\n",
    "        'session_type': parts[4] if len(parts) > 4 else 'unknown',\n",
    "        'version': parts[5] if len(parts) > 5 else 'unknown'\n",
    "    }\n",
    "    \n",
    "    return metadata\n",
    "\n",
    "def create_dataset_split(data_dir: str, split_name: str) -> Dataset:\n",
    "    \"\"\"Create a Hugging Face dataset for one split\"\"\"\n",
    "    print(f\"Processing {split_name} split from {data_dir}\")\n",
    "    \n",
    "    pairs = find_audio_transcript_pairs(data_dir)\n",
    "    print(f\"Found {len(pairs)} audio-transcript pairs\")\n",
    "    \n",
    "    data = {\n",
    "        'audio': [],\n",
    "        'transcription': [],\n",
    "        'speaker_id': [],\n",
    "        'date': [],\n",
    "        'time': [],\n",
    "        'session_type': [],\n",
    "        'version': [],\n",
    "        'split': []\n",
    "    }\n",
    "    \n",
    "    for audio_file, trn_file in pairs:\n",
    "        # Read transcription\n",
    "        transcript = read_transcription(trn_file)\n",
    "        \n",
    "        if not transcript:  # Skip if no valid transcription\n",
    "            continue\n",
    "            \n",
    "        # Extract metadata\n",
    "        metadata = extract_metadata(audio_file)\n",
    "        \n",
    "        # Add to dataset\n",
    "        data['audio'].append(audio_file)\n",
    "        data['transcription'].append(transcript)\n",
    "        data['speaker_id'].append(metadata['speaker_id'])\n",
    "        data['date'].append(metadata['date'])\n",
    "        data['time'].append(metadata['time'])\n",
    "        data['session_type'].append(metadata['session_type'])\n",
    "        data['version'].append(metadata['version'])\n",
    "        data['split'].append(split_name)\n",
    "    \n",
    "    # Create dataset\n",
    "    dataset = Dataset.from_dict(data)\n",
    "    \n",
    "    # Cast audio column to Audio feature (16kHz is standard for Whisper)\n",
    "    dataset = dataset.cast_column(\"audio\", Audio(sampling_rate=16000))\n",
    "    \n",
    "    return dataset\n",
    "\n",
    "def convert_myst_to_hf(base_dir: str, output_name: str = \"myst-child-speech\") -> DatasetDict:\n",
    "    \"\"\"Convert full MYST dataset to Hugging Face format\"\"\"\n",
    "    \n",
    "    # Define paths for each split\n",
    "    splits = {\n",
    "        'train': os.path.join(base_dir, 'train'),\n",
    "        'validation': os.path.join(base_dir, 'development'),  # or 'dev' depending on your structure\n",
    "        'test': os.path.join(base_dir, 'test')\n",
    "    }\n",
    "    \n",
    "    datasets = {}\n",
    "    \n",
    "    for split_name, split_path in splits.items():\n",
    "        if os.path.exists(split_path):\n",
    "            print(f\"\\nProcessing {split_name} split...\")\n",
    "            datasets[split_name] = create_dataset_split(split_path, split_name)\n",
    "            print(f\"{split_name}: {len(datasets[split_name])} samples\")\n",
    "        else:\n",
    "            print(f\"Warning: {split_path} not found, skipping {split_name}\")\n",
    "    \n",
    "    # Create DatasetDict\n",
    "    dataset_dict = DatasetDict(datasets)\n",
    "    \n",
    "    return dataset_dict"
   ]
  },
  {
   "cell_type": "code",
   "execution_count": 5,
   "id": "2ae546a2",
   "metadata": {},
   "outputs": [
    {
     "name": "stdout",
     "output_type": "stream",
     "text": [
      "/home/jovyan\n"
     ]
    }
   ],
   "source": [
    "# Print current directory\n",
    "print(os.getcwd())"
   ]
  },
  {
   "cell_type": "code",
   "execution_count": 7,
   "id": "69e5f456-b110-4b4b-83e7-d87aa1ae9511",
   "metadata": {},
   "outputs": [
    {
     "name": "stdout",
     "output_type": "stream",
     "text": [
      "\n",
      "Processing train split...\n",
      "Processing train split from /home/jovyan/active-projects/tla-asr-finetune/data/myst_child_conv_speech/data/train\n",
      "Missing 104331 transcripts. These will not be included in the dataset.\n",
      "Found 76992 audio-transcript pairs\n",
      "train: 76924 samples\n",
      "\n",
      "Processing validation split...\n",
      "Processing validation split from /home/jovyan/active-projects/tla-asr-finetune/data/myst_child_conv_speech/data/development\n",
      "Missing 11391 transcripts. These will not be included in the dataset.\n",
      "Found 12261 audio-transcript pairs\n",
      "validation: 12238 samples\n",
      "\n",
      "Processing test split...\n",
      "Processing test split from /home/jovyan/active-projects/tla-asr-finetune/data/myst_child_conv_speech/data/test\n",
      "Missing 9412 transcripts. These will not be included in the dataset.\n",
      "Found 13180 audio-transcript pairs\n",
      "test: 13169 samples\n"
     ]
    }
   ],
   "source": [
    "myst_base_dir = \"/home/jovyan/active-projects/tla-asr-finetune/data/myst_child_conv_speech/data\"\n",
    "\n",
    "# Convert the dataset\n",
    "dataset = convert_myst_to_hf(myst_base_dir)"
   ]
  },
  {
   "cell_type": "code",
   "execution_count": 8,
   "id": "7a2c55ca-5010-429d-9b31-0bdf8f57469b",
   "metadata": {},
   "outputs": [
    {
     "name": "stdout",
     "output_type": "stream",
     "text": [
      "\n",
      "=== Dataset Statistics ===\n",
      "train: 76924 samples\n",
      "  Example transcription: WELL I NOTICED THAT THERE IS A BATTERY UM THREE WIRES THE SWITCH AND A STEEL NAIL AND I NOTICED THAT...\n",
      "  Audio duration: 32.35s\n",
      "validation: 12238 samples\n",
      "  Example transcription: INSULATION MEANS LIKE THE COPPER WIRE IS INSIDE OF THE GREEN COATING...\n",
      "  Audio duration: 5.70s\n",
      "test: 13169 samples\n",
      "  Example transcription: YOU FILTER IT TO GET SOMETHING THAT IS ALMOST STUCK TO THE WATER TO GET OUT WITH THE...\n",
      "  Audio duration: 7.03s\n"
     ]
    }
   ],
   "source": [
    "# Print some statistics\n",
    "print(\"\\n=== Dataset Statistics ===\")\n",
    "for split, data in dataset.items():\n",
    "    print(f\"{split}: {len(data)} samples\")\n",
    "    \n",
    "    # Show first example\n",
    "    if len(data) > 0:\n",
    "        example = data[0]\n",
    "        print(f\"  Example transcription: {example['transcription'][:100]}...\")\n",
    "        print(f\"  Audio duration: {len(example['audio']['array']) / example['audio']['sampling_rate']:.2f}s\")"
   ]
  },
  {
   "cell_type": "code",
   "execution_count": 11,
   "id": "f7c05028-5fad-4de0-ae29-d7dfaf169c36",
   "metadata": {},
   "outputs": [
    {
     "name": "stdout",
     "output_type": "stream",
     "text": [
      "\n",
      "=== Audio Length Statistics ===\n",
      "\n",
      "train split:\n",
      "  Total samples: 1000\n",
      "  Mean duration: 8.20s\n",
      "  Min duration: 0.03s\n",
      "  Max duration: 162.23s\n",
      "  Duration distribution:\n",
      "    < 5s: 480 (48.0%)\n",
      "    5-30s: 492 (49.2%)\n",
      "    ≥ 30s: 28 (2.8%)\n",
      "\n",
      "validation split:\n",
      "  Total samples: 1000\n",
      "  Mean duration: 7.70s\n",
      "  Min duration: 0.03s\n",
      "  Max duration: 70.97s\n",
      "  Duration distribution:\n",
      "    < 5s: 487 (48.7%)\n",
      "    5-30s: 492 (49.2%)\n",
      "    ≥ 30s: 21 (2.1%)\n",
      "\n",
      "test split:\n",
      "  Total samples: 1000\n",
      "  Mean duration: 7.76s\n",
      "  Min duration: 0.03s\n",
      "  Max duration: 72.70s\n",
      "  Duration distribution:\n",
      "    < 5s: 499 (49.9%)\n",
      "    5-30s: 480 (48.0%)\n",
      "    ≥ 30s: 21 (2.1%)\n"
     ]
    },
    {
     "data": {
      "image/png": "[encoded data removed]",
      "text/plain": [
       "<Figure size 1800x500 with 3 Axes>"
      ]
     },
     "metadata": {},
     "output_type": "display_data"
    }
   ],
   "source": [
    "import seaborn as sns\n",
    "import matplotlib.pyplot as plt\n",
    "\n",
    "print(\"\\n=== Audio Length Statistics ===\")\n",
    "fig, axes = plt.subplots(1, 3, figsize=(18, 5), sharey=True)\n",
    "plot_idx = 0\n",
    "duration_stats = {}\n",
    "\n",
    "for split, data in dataset.items():\n",
    "    sample_size = min(1000, len(data))\n",
    "    data_sample = data.shuffle().select(range(sample_size))\n",
    "    durations = [len(sample['audio']['array']) / sample['audio']['sampling_rate'] for sample in data_sample]\n",
    "\n",
    "    duration_stats[split] = durations\n",
    "\n",
    "    print(f\"\\n{split} split:\")\n",
    "    print(f\"  Total samples: {len(durations)}\")\n",
    "    print(f\"  Mean duration: {sum(durations)/len(durations):.2f}s\")\n",
    "    print(f\"  Min duration: {min(durations):.2f}s\")\n",
    "    print(f\"  Max duration: {max(durations):.2f}s\")\n",
    "    \n",
    "    short = sum(1 for d in durations if d < 5)\n",
    "    medium = sum(1 for d in durations if 5 <= d < 30)\n",
    "    long = sum(1 for d in durations if d >= 30)\n",
    "    \n",
    "    print(f\"  Duration distribution:\")\n",
    "    print(f\"    < 5s: {short} ({short/len(durations)*100:.1f}%)\")\n",
    "    print(f\"    5-30s: {medium} ({medium/len(durations)*100:.1f}%)\")\n",
    "    print(f\"    ≥ 30s: {long} ({long/len(durations)*100:.1f}%)\")\n",
    "    \n",
    "    sns.histplot(durations, alpha=0.6, label=split, kde=True, ax=axes[plot_idx])\n",
    "    axes[plot_idx].set_title(f\"{split.capitalize()} Split\")\n",
    "    axes[plot_idx].set_xlabel('Duration (seconds)')\n",
    "    axes[plot_idx].set_ylabel('Count')\n",
    "    plot_idx += 1\n",
    "\n",
    "plt.suptitle('Audio Duration Distribution in 1,000 samples from MyST')\n",
    "plt.tight_layout(rect=[0, 0, 1, 0.96])\n",
    "plt.show()"
   ]
  },
  {
   "cell_type": "code",
   "execution_count": null,
   "id": "1fcd0731-36f0-479b-aa8e-2a8f0cac537a",
   "metadata": {},
   "outputs": [],
   "source": [
    "# Save locally\n",
    "myst_output_path = \"../data/myst_dataset.ds\"\n",
    "dataset.save_to_disk(myst_output_path)\n",
    "print(f\"\\nDataset saved to {myst_output_path}\")"
   ]
  },
  {
   "cell_type": "markdown",
   "id": "10ab282f-99b5-43f7-a1f0-b9a54eb0e2e0",
   "metadata": {
    "jp-MarkdownHeadingCollapsed": true
   },
   "source": [
    "## CSLU Kids"
   ]
  },
  {
   "cell_type": "code",
   "execution_count": 5,
   "id": "a81b6d86-0228-40ab-a2fe-84acebd779a9",
   "metadata": {},
   "outputs": [
    {
     "name": "stdout",
     "output_type": "stream",
     "text": [
      "Found 1101 matching audio-transcript pairs\n",
      "Successfully processed 1101 pairs\n",
      "Building dataset...\n",
      "Casting dataset column...\n",
      "\n",
      "Dataset created successfully!\n",
      "Number of samples: 1101\n",
      "Features: {'audio': Audio(sampling_rate=None, mono=True, decode=True, id=None), 'sentence': Value(dtype='string', id=None)}\n",
      "\n",
      "First sample:\n",
      "Audio path: ../data/cslu_kids/speech/spontaneous/02/0/ksd14/ksd14xx0.wav\n",
      "Sentence: <bn> a b c d e f g <br> h i j k<ln> l m n o p<ln> <br> q r s t u v w x y and z <bn> <pau> my<bn> fam...\n"
     ]
    }
   ],
   "source": [
    "# Path to your decompressed directory\n",
    "cslu_dir_path = \"../data/cslu_kids\"  # Adjust this to your decompressed directory path\n",
    "\n",
    "def read_transcript(transcript_path: str) -> str:\n",
    "    \"\"\"Read transcript content from a file path.\"\"\"\n",
    "    try:\n",
    "        with open(transcript_path, 'r', encoding='utf-8') as f:\n",
    "            content = f.read().strip()\n",
    "            return content\n",
    "    except Exception as e:\n",
    "        print(f\"Could not read transcript {transcript_path}: {e}\")\n",
    "        return \"\"\n",
    "\n",
    "def extract_and_match_files(dir_path: str) -> Dataset:\n",
    "    \"\"\"\n",
    "    Find matching audio and transcript files in a directory structure.\n",
    "    \n",
    "    Args:\n",
    "        dir_path: Path to the decompressed directory\n",
    "        \n",
    "    Returns:\n",
    "        Hugging Face Dataset with 'audio' and 'sentence' features\n",
    "    \"\"\"\n",
    "    audio_transcript_pairs = []\n",
    "    \n",
    "    # Walk through the directory structure\n",
    "    audio_files = {}\n",
    "    transcript_files = {}\n",
    "    \n",
    "    for root, dirs, files in os.walk(dir_path):\n",
    "        path_parts = Path(root).parts\n",
    "        \n",
    "        for file in files:\n",
    "            file_path = os.path.join(root, file)\n",
    "            file_id = Path(file).stem\n",
    "            \n",
    "            # Check if it's an audio file in speech directory\n",
    "            if 'speech' in path_parts and file.endswith('.wav'):\n",
    "                audio_files[file_id] = file_path\n",
    "            \n",
    "            # Check if it's a transcript file in trans directory\n",
    "            elif 'trans' in path_parts and file.endswith('.txt'):\n",
    "                transcript_files[file_id] = file_path\n",
    "    \n",
    "    # Find matching pairs\n",
    "    common_ids = set(audio_files.keys()) & set(transcript_files.keys())\n",
    "    print(f\"Found {len(common_ids)} matching audio-transcript pairs\")\n",
    "    \n",
    "    # Build lists of matched audio paths and sentences\n",
    "    audio_paths = []\n",
    "    sentences = []\n",
    "    \n",
    "    for file_id in common_ids:\n",
    "        audio_path = audio_files[file_id]\n",
    "        transcript_path = transcript_files[file_id]\n",
    "        \n",
    "        # Read the transcript\n",
    "        sentence = read_transcript(transcript_path)\n",
    "        \n",
    "        # Only add if we successfully read the transcript\n",
    "        if sentence:\n",
    "            audio_paths.append(audio_path)\n",
    "            sentences.append(sentence)\n",
    "    \n",
    "    print(f\"Successfully processed {len(audio_paths)} pairs\")\n",
    "    print(\"Building dataset...\")\n",
    "    \n",
    "    # Create dataset with correct feature name 'sentence' instead of 'sentences'\n",
    "    ds = Dataset.from_dict({\n",
    "        \"audio\": audio_paths,\n",
    "        \"sentence\": sentences  # Changed from 'sentences' to 'sentence'\n",
    "    })\n",
    "    \n",
    "    print(\"Casting dataset column...\")\n",
    "    ds = ds.cast_column(\"audio\", Audio())\n",
    "    \n",
    "    return ds\n",
    "\n",
    "# Create the dataset\n",
    "cslu_kids = extract_and_match_files(cslu_dir_path)\n",
    "\n",
    "# Print dataset info\n",
    "print(f\"\\nDataset created successfully!\")\n",
    "print(f\"Number of samples: {len(cslu_kids)}\")\n",
    "print(f\"Features: {cslu_kids.features}\")\n",
    "\n",
    "# Show first sample info\n",
    "if len(cslu_kids) > 0:\n",
    "    first_sample = cslu_kids[0]\n",
    "    print(f\"\\nFirst sample:\")\n",
    "    print(f\"Audio path: {first_sample['audio']['path']}\")\n",
    "    print(f\"Sentence: {first_sample['sentence'][:100]}...\")  # First 100 chars"
   ]
  },
  {
   "cell_type": "code",
   "execution_count": 6,
   "id": "029573a0-5b49-47a5-b6dc-2b6f8c52e889",
   "metadata": {},
   "outputs": [
    {
     "data": {
      "application/vnd.jupyter.widget-view+json": {
       "model_id": "d2a70509456549939f5aa43109880da6",
       "version_major": 2,
       "version_minor": 0
      },
      "text/plain": [
       "Saving the dataset (0/8 shards):   0%|          | 0/1101 [00:00<?, ? examples/s]"
      ]
     },
     "metadata": {},
     "output_type": "display_data"
    },
    {
     "name": "stdout",
     "output_type": "stream",
     "text": [
      "\n",
      "Dataset saved to: ../data/cslu_kids.ds\n"
     ]
    }
   ],
   "source": [
    "# Save dataset\n",
    "output_path = \"../data/cslu_kids.ds\"\n",
    "cslu_kids.save_to_disk(output_path)\n",
    "print(f\"\\nDataset saved to: {output_path}\")"
   ]
  }
 ],
 "metadata": {
  "kernelspec": {
   "display_name": "Python [conda env:hf]",
   "language": "python",
   "name": "conda-env-hf-py"
  }
 },
 "nbformat": 4,
 "nbformat_minor": 5
}
